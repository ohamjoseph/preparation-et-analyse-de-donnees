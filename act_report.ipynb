{
 "cells": [
  {
   "cell_type": "markdown",
   "metadata": {},
   "source": [
    "## Report: act_report\n",
    "* Create a **250-word-minimum written report** called \"act_report.pdf\" or \"act_report.html\" that communicates the insights and displays the visualization(s) produced from your wrangled data. This is to be framed as an external document, like a blog post or magazine article, for example."
   ]
  },
  {
   "cell_type": "markdown",
   "metadata": {},
   "source": [
    "Nos données portent sur les tweets de l’utilisateur Twitter @dog_rates et connu sous le nom de WeRateDogs. WeRateDogs est un compte Twitter qui évalue les chiens des gens avec un commentaire humoristique sur le chien.\n",
    "\n",
    "![imagedeblog](https://www.boredpanda.com/blog/wp-content/uploads/2021/10/1437925936721055744-png__700.jpg)"
   ]
  },
  {
   "cell_type": "markdown",
   "metadata": {},
   "source": [
    "Nous avons utilisé plusieurs méthodes afin de collecter ces données. Ensuite, nous les avons évalué et nettoyé avant de tirer quelques informations de ces données."
   ]
  },
  {
   "cell_type": "markdown",
   "metadata": {},
   "source": [
    "Le traitement de cet ensemble de données nous a permis de savoir quel jour de la semaine @dog_rates fait le plus de publications. Pour cela la colonne `timestamp` doit avoir le bon type soit datetime. Avec la méthode `day_name` on obtient les jour pour chaque date de nos données, on compte ensuite le nombre de chaque occurrence des jours.\n",
    "\n",
    "|Jour    | Nombre|\n",
    "|--------|------|\n",
    "|Monday  |   231|\n",
    "|Friday  |   197|\n",
    "|Thursday|   196|\n",
    "|Tuesday |   194|\n",
    "|Wednesday|  189|\n",
    "|Sunday  |   184|\n",
    "|Saturday|   179|"
   ]
  },
  {
   "cell_type": "markdown",
   "metadata": {},
   "source": [
    "Nous savons aussi, à partir de l’ensemble de données, l’information concernant le nombre maximal de retweets qu’un post a eu. Après avoir trié les données en se basant sur ` retweet_count `, nous avons obtenus un tableau dont la colonne `retweet_count ` est ranger par ordre croissant, il suffit de voir la dernière ligne pour trouver la valeur qui nous intéresse.\n",
    "\n",
    "|retweet_count|\n",
    "|--|\n",
    "|52708 |"
   ]
  },
  {
   "cell_type": "markdown",
   "metadata": {},
   "source": [
    "Aussi, nous avons le maximal de `j’aime` pour tous les tweets que nous avons dans notre ensemble de données. Avec le même procédé que le précédent, mais cette fois-ci en utilisant la colonne `favorite_count`. Le tableau qu’on obtient classe les valeurs de `favorite_count` par ordre croissant. Donc, la dernière ligne nous renseigne la valeur que nous cherchons.\n",
    "\n",
    "|favorite_count|\n",
    "|--|\n",
    "|123785|"
   ]
  },
  {
   "cell_type": "markdown",
   "metadata": {},
   "source": [
    "Nous avons ensuite, présenté sur un graphe la moyenne des `j’aime` et des `retweets`. Nous avons vu que peu d’abonnées font un retweet des posts. Nous commençons par sélectionner les colonnes `retweet_count` et `favorite_count`. Ensuit nous appliquons la méthode `mean` de pandas afin d’obtenir les moyennes et tracer notre graphique."
   ]
  },
  {
   "cell_type": "markdown",
   "metadata": {},
   "source": [
    "<img src=\"rt_fv.png\" />"
   ]
  },
  {
   "cell_type": "code",
   "execution_count": 1,
   "metadata": {},
   "outputs": [
    {
     "data": {
      "text/plain": [
       "0"
      ]
     },
     "execution_count": 1,
     "metadata": {},
     "output_type": "execute_result"
    }
   ],
   "source": [
    "from subprocess import call\n",
    "call(['python', '-m', 'nbconvert', 'act_report'])"
   ]
  }
 ],
 "metadata": {
  "kernelspec": {
   "display_name": "Python 3",
   "language": "python",
   "name": "python3"
  },
  "language_info": {
   "codemirror_mode": {
    "name": "ipython",
    "version": 3
   },
   "file_extension": ".py",
   "mimetype": "text/x-python",
   "name": "python",
   "nbconvert_exporter": "python",
   "pygments_lexer": "ipython3",
   "version": "3.6.3"
  }
 },
 "nbformat": 4,
 "nbformat_minor": 2
}
